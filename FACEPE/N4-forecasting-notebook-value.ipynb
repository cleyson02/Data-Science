{
 "cells": [
  {
   "cell_type": "markdown",
   "id": "3a734057-93e5-4df0-a388-985c94f4ee64",
   "metadata": {
    "jp-MarkdownHeadingCollapsed": true,
    "tags": []
   },
   "source": [
    "# Baixando as bibliotecas"
   ]
  },
  {
   "cell_type": "code",
   "execution_count": 16,
   "id": "1ffb93f8-724c-42d8-9df0-0aa65f24df28",
   "metadata": {
    "tags": []
   },
   "outputs": [
    {
     "name": "stdout",
     "output_type": "stream",
     "text": [
      "Requirement already satisfied: mlforecast in /opt/conda/lib/python3.10/site-packages (0.13.0)\n",
      "Requirement already satisfied: cloudpickle in /opt/conda/lib/python3.10/site-packages (from mlforecast) (3.0.0)\n",
      "Requirement already satisfied: coreforecast>=0.0.7 in /opt/conda/lib/python3.10/site-packages (from mlforecast) (0.0.10)\n",
      "Requirement already satisfied: fsspec in /opt/conda/lib/python3.10/site-packages (from mlforecast) (2024.6.0)\n",
      "Requirement already satisfied: numba in /opt/conda/lib/python3.10/site-packages (from mlforecast) (0.60.0)\n",
      "Requirement already satisfied: optuna in /opt/conda/lib/python3.10/site-packages (from mlforecast) (3.6.1)\n",
      "Requirement already satisfied: packaging in /opt/conda/lib/python3.10/site-packages (from mlforecast) (24.1)\n",
      "Requirement already satisfied: pandas in /opt/conda/lib/python3.10/site-packages (from mlforecast) (2.2.2)\n",
      "Requirement already satisfied: scikit-learn in /opt/conda/lib/python3.10/site-packages (from mlforecast) (1.5.0)\n",
      "Requirement already satisfied: utilsforecast>=0.0.27 in /opt/conda/lib/python3.10/site-packages (from mlforecast) (0.1.12)\n",
      "Requirement already satisfied: window-ops in /opt/conda/lib/python3.10/site-packages (from mlforecast) (0.0.15)\n",
      "Requirement already satisfied: numpy>=1.20.0 in /opt/conda/lib/python3.10/site-packages (from coreforecast>=0.0.7->mlforecast) (1.26.4)\n",
      "Requirement already satisfied: python-dateutil>=2.8.2 in /opt/conda/lib/python3.10/site-packages (from pandas->mlforecast) (2.9.0)\n",
      "Requirement already satisfied: pytz>=2020.1 in /opt/conda/lib/python3.10/site-packages (from pandas->mlforecast) (2024.1)\n",
      "Requirement already satisfied: tzdata>=2022.7 in /opt/conda/lib/python3.10/site-packages (from pandas->mlforecast) (2024.1)\n",
      "Requirement already satisfied: llvmlite<0.44,>=0.43.0dev0 in /opt/conda/lib/python3.10/site-packages (from numba->mlforecast) (0.43.0)\n",
      "Requirement already satisfied: alembic>=1.5.0 in /opt/conda/lib/python3.10/site-packages (from optuna->mlforecast) (1.13.2)\n",
      "Requirement already satisfied: colorlog in /opt/conda/lib/python3.10/site-packages (from optuna->mlforecast) (6.8.2)\n",
      "Requirement already satisfied: sqlalchemy>=1.3.0 in /opt/conda/lib/python3.10/site-packages (from optuna->mlforecast) (2.0.30)\n",
      "Requirement already satisfied: tqdm in /opt/conda/lib/python3.10/site-packages (from optuna->mlforecast) (4.66.4)\n",
      "Requirement already satisfied: PyYAML in /opt/conda/lib/python3.10/site-packages (from optuna->mlforecast) (6.0.1)\n",
      "Requirement already satisfied: scipy>=1.6.0 in /opt/conda/lib/python3.10/site-packages (from scikit-learn->mlforecast) (1.13.1)\n",
      "Requirement already satisfied: joblib>=1.2.0 in /opt/conda/lib/python3.10/site-packages (from scikit-learn->mlforecast) (1.4.2)\n",
      "Requirement already satisfied: threadpoolctl>=3.1.0 in /opt/conda/lib/python3.10/site-packages (from scikit-learn->mlforecast) (3.5.0)\n",
      "Requirement already satisfied: Mako in /opt/conda/lib/python3.10/site-packages (from alembic>=1.5.0->optuna->mlforecast) (1.3.5)\n",
      "Requirement already satisfied: typing-extensions>=4 in /opt/conda/lib/python3.10/site-packages (from alembic>=1.5.0->optuna->mlforecast) (4.12.2)\n",
      "Requirement already satisfied: six>=1.5 in /opt/conda/lib/python3.10/site-packages (from python-dateutil>=2.8.2->pandas->mlforecast) (1.16.0)\n",
      "Requirement already satisfied: greenlet!=0.4.17 in /opt/conda/lib/python3.10/site-packages (from sqlalchemy>=1.3.0->optuna->mlforecast) (3.0.3)\n",
      "Requirement already satisfied: MarkupSafe>=0.9.2 in /opt/conda/lib/python3.10/site-packages (from Mako->alembic>=1.5.0->optuna->mlforecast) (2.1.5)\n",
      "Requirement already satisfied: dill in /opt/conda/lib/python3.10/site-packages (0.3.8)\n"
     ]
    }
   ],
   "source": [
    "!pip install mlforecast\n",
    "\n",
    "!pip install dill"
   ]
  },
  {
   "cell_type": "markdown",
   "id": "49922627-0682-44dd-8361-0fa591de3fd9",
   "metadata": {
    "jp-MarkdownHeadingCollapsed": true,
    "tags": []
   },
   "source": [
    "# Importando as bibliotecas"
   ]
  },
  {
   "cell_type": "code",
   "execution_count": 17,
   "id": "b8070f36-145c-4245-9fa6-5ed8973b66a9",
   "metadata": {
    "tags": []
   },
   "outputs": [],
   "source": [
    "import numpy as np\n",
    "import pandas as pd\n",
    "import matplotlib.pyplot as plt\n",
    "\n",
    "import dill as pickle\n",
    "\n",
    "import mlforecast\n",
    "from mlforecast import MLForecast\n",
    "from utilsforecast.losses import mae, mape, rmse, smape\n",
    "from utilsforecast.evaluation import evaluate\n",
    "from utilsforecast.plotting import plot_series\n",
    "\n",
    "\n",
    "from sklearn.metrics import mean_absolute_error\n",
    "from sklearn.metrics import mean_absolute_percentage_error\n",
    "from sklearn.metrics import mean_squared_error\n",
    "from sklearn.metrics import r2_score\n",
    "from math import sqrt\n",
    "\n",
    "from mlforecast.auto import (\n",
    "    AutoLightGBM,\n",
    "    AutoMLForecast,\n",
    "    AutoModel,\n",
    "    AutoRidge,\n",
    "    ridge_space,\n",
    "    AutoRandomForest,\n",
    "    AutoXGBoost,\n",
    "    AutoLinearRegression,\n",
    "    AutoLasso,\n",
    "    AutoElasticNet,\n",
    "    AutoCatboost,\n",
    "    xgboost_space,\n",
    "    catboost_space,\n",
    "    random_forest_space\n",
    ")\n",
    "\n",
    "import warnings\n",
    "warnings.filterwarnings('ignore')"
   ]
  },
  {
   "cell_type": "markdown",
   "id": "da1674dd-df92-4669-867b-0af230af7c98",
   "metadata": {
    "jp-MarkdownHeadingCollapsed": true,
    "tags": []
   },
   "source": [
    "# Funcoes"
   ]
  },
  {
   "cell_type": "code",
   "execution_count": 18,
   "id": "f8fb69ac-8813-41f8-acd1-27aa97325b16",
   "metadata": {
    "tags": []
   },
   "outputs": [],
   "source": [
    "def mean_absolute_percentage_error(y_true, y_pred):\n",
    "      y_true, y_pred = np.array(y_true), np.array(y_pred)\n",
    "      non_zero_idx = y_true != 0\n",
    "      return np.mean(np.abs((y_true[non_zero_idx] - y_pred[non_zero_idx]) / y_true[non_zero_idx])) * 100"
   ]
  },
  {
   "cell_type": "markdown",
   "id": "b1894351-8e83-46ce-9dbe-d7a6585ad1c4",
   "metadata": {},
   "source": [
    "# Carregando os dados"
   ]
  },
  {
   "cell_type": "code",
   "execution_count": 19,
   "id": "9e73d755-b687-4006-ba7d-b1236df3f86a",
   "metadata": {
    "tags": []
   },
   "outputs": [],
   "source": [
    "bucket_uri = \"gs://m5_dados/M5_full.parquet\""
   ]
  },
  {
   "cell_type": "code",
   "execution_count": 20,
   "id": "92a9d2ad-992c-45d8-987b-8bb1405b04c0",
   "metadata": {
    "tags": []
   },
   "outputs": [],
   "source": [
    "dados = pd.read_parquet(bucket_uri)"
   ]
  },
  {
   "cell_type": "code",
   "execution_count": 21,
   "id": "81e6aecd-8386-45e1-8dc5-0965ebf6837f",
   "metadata": {
    "tags": []
   },
   "outputs": [],
   "source": [
    "dados['date'] = pd.to_datetime(dados['date'])"
   ]
  },
  {
   "cell_type": "code",
   "execution_count": 22,
   "id": "f614473c-9c61-4714-b8d0-fae03435e60f",
   "metadata": {},
   "outputs": [],
   "source": [
    "last_date = dados['date'].max()\n",
    "\n",
    "first_day_of_last_month = last_date.replace(day=1)\n",
    "\n",
    "dados = dados[dados['date'] < first_day_of_last_month]"
   ]
  },
  {
   "cell_type": "code",
   "execution_count": 23,
   "id": "e9652989-ba28-4b19-bd2e-b7c222b53ec9",
   "metadata": {
    "tags": []
   },
   "outputs": [],
   "source": [
    "dados.set_index('date', inplace=True)"
   ]
  },
  {
   "cell_type": "markdown",
   "id": "b52ae10e-09f4-42e9-85e0-866fd6e9b4b5",
   "metadata": {},
   "source": [
    "# Criando a série de valor total"
   ]
  },
  {
   "cell_type": "code",
   "execution_count": 24,
   "id": "23238dab-c4bc-4549-8813-e28fa8c07314",
   "metadata": {
    "tags": []
   },
   "outputs": [],
   "source": [
    "dados = dados.drop(['id', 'item_id', 'dept_id', 'cat_id', 'store_id', 'state_id'], axis=1)"
   ]
  },
  {
   "cell_type": "code",
   "execution_count": 25,
   "id": "0e271f89-f18d-4f93-b747-ae4746ae3883",
   "metadata": {
    "tags": []
   },
   "outputs": [],
   "source": [
    "valor_total = dados.resample(\"MS\").sum()"
   ]
  },
  {
   "cell_type": "markdown",
   "id": "43b66558-1cba-416a-9d65-c7a3c1718f06",
   "metadata": {},
   "source": [
    "## Split em treino e teste"
   ]
  },
  {
   "cell_type": "code",
   "execution_count": 26,
   "id": "515a0cea-a4ac-4862-bbd0-6095f10aebdd",
   "metadata": {
    "tags": []
   },
   "outputs": [],
   "source": [
    "teste_size = 6\n",
    "teste = valor_total.tail(teste_size)\n",
    "train = valor_total.drop(teste.index)"
   ]
  },
  {
   "cell_type": "code",
   "execution_count": 27,
   "id": "f8f426ef-fb54-44b9-a45a-bb07bbd20ee3",
   "metadata": {
    "tags": []
   },
   "outputs": [],
   "source": [
    "df_train = train.reset_index()\n",
    "df_test = teste.reset_index()"
   ]
  },
  {
   "cell_type": "code",
   "execution_count": 28,
   "id": "5f35098d-a9a7-4f60-b55c-6afac2ddbf0d",
   "metadata": {
    "tags": []
   },
   "outputs": [],
   "source": [
    "df_train = df_train.rename(columns={'date': 'ds',\n",
    "                                    'value': 'y'})\n",
    "\n",
    "df_test = df_test.rename(columns={'date': 'ds',\n",
    "                                  'value': 'y'})"
   ]
  },
  {
   "cell_type": "code",
   "execution_count": 29,
   "id": "cec945ff-d25a-472d-9256-94fcf9a8ffb5",
   "metadata": {
    "tags": []
   },
   "outputs": [],
   "source": [
    "df_train['unique_id'] = 0\n",
    "df_test['unique_id'] = 0"
   ]
  },
  {
   "cell_type": "markdown",
   "id": "932aefc6-ed81-43c8-8897-04a91ea973c9",
   "metadata": {},
   "source": [
    "## Analisando o melhor modelo para a previsão"
   ]
  },
  {
   "cell_type": "code",
   "execution_count": 31,
   "id": "ecfccafe-8e98-4d5c-83e9-9ea8b524e416",
   "metadata": {
    "tags": []
   },
   "outputs": [],
   "source": [
    "models={\n",
    "    'lgb': AutoLightGBM(), \n",
    "    'ridge': AutoRidge(),\n",
    "    'xgb': AutoXGBoost(),\n",
    "    'linear_regression': AutoLinearRegression(),\n",
    "    'lasso': AutoLasso(),\n",
    "    'elastic_net': AutoElasticNet(),\n",
    "    'rf' : AutoRandomForest()\n",
    "        }"
   ]
  },
  {
   "cell_type": "code",
   "execution_count": 32,
   "id": "a69ac8dc-981f-482f-a22d-7e1aba522d61",
   "metadata": {
    "tags": []
   },
   "outputs": [],
   "source": [
    "auto_mlf = AutoMLForecast(\n",
    "    models=models,\n",
    "    freq=\"MS\",\n",
    "    season_length=6,\n",
    ")"
   ]
  },
  {
   "cell_type": "code",
   "execution_count": 33,
   "id": "9a2edf4e-768f-4738-bc5f-9f46a769f4f9",
   "metadata": {},
   "outputs": [
    {
     "name": "stderr",
     "output_type": "stream",
     "text": [
      "[I 2024-07-05 16:20:12,642] A new study created in memory with name: no-name-882726b9-a314-4f42-ab04-a840c2d3676f\n",
      "[I 2024-07-05 16:20:12,825] Trial 0 finished with value: 0.05025303884766637 and parameters: {'n_estimators': 169, 'lambda_l1': 0.027334069690310565, 'lambda_l2': 0.0026599310838681858, 'num_leaves': 112, 'feature_fraction': 0.7118273996694524, 'bagging_fraction': 0.8229470565333281, 'objective': 'l2', 'target_transforms_idx': 0, 'lags_idx': 0, 'lag_transforms_idx': 2}. Best is trial 0 with value: 0.05025303884766637.\n",
      "[I 2024-07-05 16:20:13,011] Trial 1 finished with value: 0.0606956572236476 and parameters: {'n_estimators': 920, 'lambda_l1': 0.15574964948467418, 'lambda_l2': 0.00014233583723829364, 'num_leaves': 722, 'feature_fraction': 0.5591372129344666, 'bagging_fraction': 0.819960510663762, 'objective': 'l2', 'target_transforms_idx': 3, 'lags_idx': 0, 'lag_transforms_idx': 1}. Best is trial 0 with value: 0.05025303884766637.\n",
      "[I 2024-07-05 16:20:13,181] Trial 2 finished with value: 0.03308942691258836 and parameters: {'n_estimators': 80, 'lambda_l1': 8.5760555256054e-05, 'lambda_l2': 0.0189968136862103, 'num_leaves': 2, 'feature_fraction': 0.8333833577228338, 'bagging_fraction': 0.8353189348090797, 'objective': 'l1', 'target_transforms_idx': 4, 'lags_idx': 1, 'lag_transforms_idx': 1}. Best is trial 2 with value: 0.03308942691258836.\n",
      "[I 2024-07-05 16:20:13,352] Trial 3 finished with value: 0.03308942691258836 and parameters: {'n_estimators': 36, 'lambda_l1': 9.848640172873773e-08, 'lambda_l2': 0.008071724032088088, 'num_leaves': 4, 'feature_fraction': 0.5982911808400267, 'bagging_fraction': 0.684362585330482, 'objective': 'l1', 'target_transforms_idx': 4, 'lags_idx': 1, 'lag_transforms_idx': 1}. Best is trial 2 with value: 0.03308942691258836.\n",
      "[I 2024-07-05 16:20:13,521] Trial 4 finished with value: 0.03898275967697329 and parameters: {'n_estimators': 68, 'lambda_l1': 5.350162224340511e-05, 'lambda_l2': 3.778569956294474e-08, 'num_leaves': 359, 'feature_fraction': 0.7833007271032876, 'bagging_fraction': 0.6326947454697227, 'objective': 'l1', 'target_transforms_idx': 1, 'lags_idx': 1, 'lag_transforms_idx': 1}. Best is trial 2 with value: 0.03308942691258836.\n",
      "[I 2024-07-05 16:20:13,688] Trial 5 finished with value: 0.03898275967697329 and parameters: {'n_estimators': 281, 'lambda_l1': 2.6919795645288304e-06, 'lambda_l2': 0.04137578048520922, 'num_leaves': 3037, 'feature_fraction': 0.624376571759979, 'bagging_fraction': 0.7880786672089184, 'objective': 'l1', 'target_transforms_idx': 1, 'lags_idx': 1, 'lag_transforms_idx': 1}. Best is trial 2 with value: 0.03308942691258836.\n",
      "[I 2024-07-05 16:20:13,708] A new study created in memory with name: no-name-9bc0c782-532e-4693-a103-2a3588dd7693\n",
      "[I 2024-07-05 16:20:13,884] Trial 0 finished with value: 0.04876443428364776 and parameters: {'fit_intercept': True, 'alpha': 9.560880263597516, 'target_transforms_idx': 5, 'lags_idx': 0, 'lag_transforms_idx': 2}. Best is trial 0 with value: 0.04876443428364776.\n",
      "[I 2024-07-05 16:20:14,052] Trial 1 finished with value: 0.03304072172020676 and parameters: {'fit_intercept': True, 'alpha': 6.532354997751479, 'target_transforms_idx': 2, 'lags_idx': 0, 'lag_transforms_idx': 2}. Best is trial 1 with value: 0.03304072172020676.\n",
      "[I 2024-07-05 16:20:14,207] Trial 2 finished with value: 0.04601632561965458 and parameters: {'fit_intercept': False, 'alpha': 1.625766853829072, 'target_transforms_idx': 2, 'lags_idx': 0, 'lag_transforms_idx': 2}. Best is trial 1 with value: 0.03304072172020676.\n",
      "[I 2024-07-05 16:20:14,372] Trial 3 finished with value: 0.04759643405651479 and parameters: {'fit_intercept': True, 'alpha': 3.6004206667191605, 'target_transforms_idx': 6, 'lags_idx': 1, 'lag_transforms_idx': 0}. Best is trial 1 with value: 0.03304072172020676.\n",
      "[I 2024-07-05 16:20:14,530] Trial 4 finished with value: 0.057985923885785835 and parameters: {'fit_intercept': False, 'alpha': 5.772708657453072, 'target_transforms_idx': 1, 'lags_idx': 0, 'lag_transforms_idx': 1}. Best is trial 1 with value: 0.03304072172020676.\n",
      "[I 2024-07-05 16:20:14,701] Trial 5 finished with value: 0.02308676910221397 and parameters: {'fit_intercept': True, 'alpha': 2.544310461222159, 'target_transforms_idx': 3, 'lags_idx': 1, 'lag_transforms_idx': 2}. Best is trial 5 with value: 0.02308676910221397.\n",
      "[I 2024-07-05 16:20:14,714] A new study created in memory with name: no-name-76a6b3d9-7b9d-47f4-bf9f-ecaeb3ec0457\n",
      "[I 2024-07-05 16:20:15,029] Trial 0 finished with value: 0.05225462799551269 and parameters: {'n_estimators': 991, 'max_depth': 3, 'learning_rate': 0.033555432031946934, 'subsample': 0.33699013906343556, 'bagging_freq': 0.11858589951915582, 'colsample_bytree': 0.7825407884525273, 'min_data_in_leaf': 32.68169793142432, 'reg_lambda': 1.1687218226775379e-05, 'reg_alpha': 0.0005087880570576905, 'min_child_weight': 9, 'target_transforms_idx': 5, 'lags_idx': 1, 'lag_transforms_idx': 0}. Best is trial 0 with value: 0.05225462799551269.\n",
      "[I 2024-07-05 16:20:15,033] Trial 1 finished with value: inf and parameters: {'n_estimators': 528, 'max_depth': 1, 'learning_rate': 0.00300189064074521, 'subsample': 0.4822169218763557, 'bagging_freq': 0.43675298230080306, 'colsample_bytree': 0.5172178819283296, 'min_data_in_leaf': 28.48524192317846, 'reg_lambda': 0.000494623528968139, 'reg_alpha': 0.08144132811911443, 'min_child_weight': 3, 'target_transforms_idx': 2, 'lags_idx': 0, 'lag_transforms_idx': 0}. Best is trial 0 with value: 0.05225462799551269.\n",
      "[I 2024-07-05 16:20:15,038] Trial 2 finished with value: inf and parameters: {'n_estimators': 906, 'max_depth': 1, 'learning_rate': 0.018647105874703057, 'subsample': 0.626028462060192, 'bagging_freq': 0.9657427406925061, 'colsample_bytree': 0.36293277411329394, 'min_data_in_leaf': 24.842049211629234, 'reg_lambda': 6.343830025534801e-08, 'reg_alpha': 1.3534338579304768e-08, 'min_child_weight': 10, 'target_transforms_idx': 6, 'lags_idx': 0, 'lag_transforms_idx': 0}. Best is trial 0 with value: 0.05225462799551269.\n",
      "[I 2024-07-05 16:20:15,519] Trial 3 finished with value: 0.023026341059778153 and parameters: {'n_estimators': 943, 'max_depth': 8, 'learning_rate': 0.028227967805056108, 'subsample': 0.8868591699624523, 'bagging_freq': 0.363718256057017, 'colsample_bytree': 0.8640491997816264, 'min_data_in_leaf': 62.169792499834855, 'reg_lambda': 1.2761298343825283e-08, 'reg_alpha': 5.996090007833352e-06, 'min_child_weight': 3, 'target_transforms_idx': 0, 'lags_idx': 1, 'lag_transforms_idx': 2}. Best is trial 3 with value: 0.023026341059778153.\n",
      "[I 2024-07-05 16:20:15,908] Trial 4 finished with value: 0.03655278804034856 and parameters: {'n_estimators': 974, 'max_depth': 10, 'learning_rate': 0.12190215871890502, 'subsample': 0.7966425994287749, 'bagging_freq': 0.3998306368257778, 'colsample_bytree': 0.1729912509891971, 'min_data_in_leaf': 41.31687596996693, 'reg_lambda': 7.208968657932036e-07, 'reg_alpha': 1.1478921292380543e-07, 'min_child_weight': 2, 'target_transforms_idx': 2, 'lags_idx': 1, 'lag_transforms_idx': 1}. Best is trial 3 with value: 0.023026341059778153.\n",
      "[I 2024-07-05 16:20:16,057] Trial 5 pruned. \n",
      "[I 2024-07-05 16:20:17,319] A new study created in memory with name: no-name-fefd1b50-a818-4c0a-a292-66b78cc1ef93\n",
      "[I 2024-07-05 16:20:17,476] Trial 0 finished with value: 0.043944542029374214 and parameters: {'fit_intercept': True, 'target_transforms_idx': 5, 'lags_idx': 1, 'lag_transforms_idx': 2}. Best is trial 0 with value: 0.043944542029374214.\n",
      "[I 2024-07-05 16:20:17,634] Trial 1 finished with value: 0.025607656360989127 and parameters: {'fit_intercept': True, 'target_transforms_idx': 1, 'lags_idx': 1, 'lag_transforms_idx': 1}. Best is trial 1 with value: 0.025607656360989127.\n",
      "[I 2024-07-05 16:20:17,788] Trial 2 finished with value: 0.04425585568047945 and parameters: {'fit_intercept': True, 'target_transforms_idx': 5, 'lags_idx': 1, 'lag_transforms_idx': 1}. Best is trial 1 with value: 0.025607656360989127.\n",
      "[I 2024-07-05 16:20:17,791] Trial 3 finished with value: inf and parameters: {'fit_intercept': False, 'target_transforms_idx': 0, 'lags_idx': 0, 'lag_transforms_idx': 0}. Best is trial 1 with value: 0.025607656360989127.\n",
      "[I 2024-07-05 16:20:17,956] Trial 4 finished with value: 0.02780432057326144 and parameters: {'fit_intercept': False, 'target_transforms_idx': 3, 'lags_idx': 1, 'lag_transforms_idx': 2}. Best is trial 1 with value: 0.025607656360989127.\n",
      "[I 2024-07-05 16:20:18,005] Trial 5 pruned. \n",
      "[I 2024-07-05 16:20:18,018] A new study created in memory with name: no-name-4e9524fd-4bcb-43a5-aaf3-d08dd571bd6b\n",
      "[I 2024-07-05 16:20:18,021] Trial 0 finished with value: inf and parameters: {'fit_intercept': True, 'alpha': 7.832561148699818, 'target_transforms_idx': 4, 'lags_idx': 0, 'lag_transforms_idx': 0}. Best is trial 0 with value: inf.\n",
      "[I 2024-07-05 16:20:18,187] Trial 1 finished with value: 0.09254332130219646 and parameters: {'fit_intercept': False, 'alpha': 0.461027101562082, 'target_transforms_idx': 3, 'lags_idx': 0, 'lag_transforms_idx': 1}. Best is trial 1 with value: 0.09254332130219646.\n",
      "[I 2024-07-05 16:20:18,190] Trial 2 finished with value: inf and parameters: {'fit_intercept': True, 'alpha': 7.307360282175635, 'target_transforms_idx': 0, 'lags_idx': 0, 'lag_transforms_idx': 0}. Best is trial 1 with value: 0.09254332130219646.\n",
      "[I 2024-07-05 16:20:18,359] Trial 3 finished with value: 0.03405949251231104 and parameters: {'fit_intercept': True, 'alpha': 8.673026765219186, 'target_transforms_idx': 4, 'lags_idx': 0, 'lag_transforms_idx': 2}. Best is trial 3 with value: 0.03405949251231104.\n",
      "[I 2024-07-05 16:20:18,527] Trial 4 finished with value: 0.09254332130219646 and parameters: {'fit_intercept': False, 'alpha': 9.677978923313221, 'target_transforms_idx': 3, 'lags_idx': 0, 'lag_transforms_idx': 1}. Best is trial 3 with value: 0.03405949251231104.\n",
      "[I 2024-07-05 16:20:18,687] Trial 5 finished with value: 0.06996374992678726 and parameters: {'fit_intercept': False, 'alpha': 7.506199634266947, 'target_transforms_idx': 1, 'lags_idx': 1, 'lag_transforms_idx': 2}. Best is trial 3 with value: 0.03405949251231104.\n",
      "[I 2024-07-05 16:20:18,703] A new study created in memory with name: no-name-b6983068-8402-4e6f-9c81-ba825fbb3c15\n",
      "[I 2024-07-05 16:20:18,706] Trial 0 finished with value: inf and parameters: {'fit_intercept': False, 'alpha': 6.762748580292352, 'l1_ratio': 0.8792347630313271, 'target_transforms_idx': 3, 'lags_idx': 0, 'lag_transforms_idx': 0}. Best is trial 0 with value: inf.\n",
      "[I 2024-07-05 16:20:18,884] Trial 1 finished with value: 0.040852908856825465 and parameters: {'fit_intercept': True, 'alpha': 2.0982897466066954, 'l1_ratio': 0.11570323332709365, 'target_transforms_idx': 3, 'lags_idx': 1, 'lag_transforms_idx': 2}. Best is trial 1 with value: 0.040852908856825465.\n",
      "[I 2024-07-05 16:20:19,044] Trial 2 finished with value: 0.0326665403793997 and parameters: {'fit_intercept': True, 'alpha': 7.908610792110823, 'l1_ratio': 0.09724292563242465, 'target_transforms_idx': 2, 'lags_idx': 0, 'lag_transforms_idx': 1}. Best is trial 2 with value: 0.0326665403793997.\n",
      "[I 2024-07-05 16:20:19,201] Trial 3 finished with value: 0.06996374992678726 and parameters: {'fit_intercept': False, 'alpha': 5.414266556777601, 'l1_ratio': 0.9233060678891631, 'target_transforms_idx': 1, 'lags_idx': 0, 'lag_transforms_idx': 2}. Best is trial 2 with value: 0.0326665403793997.\n",
      "[I 2024-07-05 16:20:19,364] Trial 4 finished with value: 0.060916817927447534 and parameters: {'fit_intercept': False, 'alpha': 4.403197264542089, 'l1_ratio': 0.0764867690302854, 'target_transforms_idx': 5, 'lags_idx': 0, 'lag_transforms_idx': 2}. Best is trial 2 with value: 0.0326665403793997.\n",
      "[I 2024-07-05 16:20:19,417] Trial 5 pruned. \n",
      "[I 2024-07-05 16:20:19,430] A new study created in memory with name: no-name-f9625828-fe76-421d-b6c6-ce19a3ff5467\n",
      "[I 2024-07-05 16:20:19,434] Trial 0 finished with value: inf and parameters: {'n_estimators': 972, 'max_depth': 2, 'min_child_samples': 10, 'max_features': 0.671695864395458, 'criterion': 'absolute_error', 'target_transforms_idx': 1, 'lags_idx': 0, 'lag_transforms_idx': 0}. Best is trial 0 with value: inf.\n",
      "[I 2024-07-05 16:20:19,854] Trial 1 finished with value: 0.04820069362398741 and parameters: {'n_estimators': 109, 'max_depth': 3, 'min_child_samples': 44, 'max_features': 0.7609981368149912, 'criterion': 'absolute_error', 'target_transforms_idx': 6, 'lags_idx': 0, 'lag_transforms_idx': 1}. Best is trial 1 with value: 0.04820069362398741.\n",
      "[I 2024-07-05 16:20:21,800] Trial 2 finished with value: 0.05068357270800085 and parameters: {'n_estimators': 869, 'max_depth': 1, 'min_child_samples': 50, 'max_features': 0.7905409648360315, 'criterion': 'squared_error', 'target_transforms_idx': 5, 'lags_idx': 0, 'lag_transforms_idx': 1}. Best is trial 1 with value: 0.04820069362398741.\n",
      "[I 2024-07-05 16:20:23,389] Trial 3 finished with value: 0.030607694560641475 and parameters: {'n_estimators': 688, 'max_depth': 4, 'min_child_samples': 72, 'max_features': 0.8195934496126962, 'criterion': 'absolute_error', 'target_transforms_idx': 2, 'lags_idx': 1, 'lag_transforms_idx': 2}. Best is trial 3 with value: 0.030607694560641475.\n",
      "[I 2024-07-05 16:20:23,903] Trial 4 finished with value: 0.0493151650485938 and parameters: {'n_estimators': 154, 'max_depth': 7, 'min_child_samples': 71, 'max_features': 0.8173931614668474, 'criterion': 'squared_error', 'target_transforms_idx': 0, 'lags_idx': 1, 'lag_transforms_idx': 0}. Best is trial 3 with value: 0.030607694560641475.\n",
      "[I 2024-07-05 16:20:24,349] Trial 5 finished with value: 0.040275917033581826 and parameters: {'n_estimators': 126, 'max_depth': 1, 'min_child_samples': 23, 'max_features': 0.5500070304607776, 'criterion': 'squared_error', 'target_transforms_idx': 1, 'lags_idx': 1, 'lag_transforms_idx': 2}. Best is trial 3 with value: 0.030607694560641475.\n"
     ]
    },
    {
     "data": {
      "text/plain": [
       "AutoMLForecast(models={'lgb': AutoModel(model=LGBMRegressor), 'ridge': AutoModel(model=Ridge), 'xgb': AutoModel(model=XGBRegressor), 'linear_regression': AutoModel(model=LinearRegression), 'lasso': AutoModel(model=Lasso), 'elastic_net': AutoModel(model=ElasticNet), 'rf': AutoModel(model=RandomForestRegressor)})"
      ]
     },
     "execution_count": 33,
     "metadata": {},
     "output_type": "execute_result"
    }
   ],
   "source": [
    "auto_mlf.fit(\n",
    "    df_train,\n",
    "    n_windows=4,\n",
    "    h=6,\n",
    "    num_samples=6,\n",
    ")"
   ]
  },
  {
   "cell_type": "code",
   "execution_count": 34,
   "id": "f5f9d677-6a1b-4b06-a47e-76bae1a55246",
   "metadata": {
    "tags": []
   },
   "outputs": [],
   "source": [
    "preds = auto_mlf.predict(6)"
   ]
  },
  {
   "cell_type": "code",
   "execution_count": 35,
   "id": "5e301106-c1c7-4e79-b361-9ab90b47d2f0",
   "metadata": {
    "tags": []
   },
   "outputs": [],
   "source": [
    "for i in list(models.keys()):\n",
    "  preds[i] = preds[i].astype(int)"
   ]
  },
  {
   "cell_type": "code",
   "execution_count": 36,
   "id": "46cefc46-d55c-46f0-b66b-750e96c2f220",
   "metadata": {
    "tags": []
   },
   "outputs": [
    {
     "data": {
      "image/png": "[encoded data removed]",
      "text/plain": [
       "<Figure size 2400x350 with 1 Axes>"
      ]
     },
     "execution_count": 36,
     "metadata": {},
     "output_type": "execute_result"
    }
   ],
   "source": [
    "plot_series(df_test, preds, plot_random=False)"
   ]
  },
  {
   "cell_type": "code",
   "execution_count": 37,
   "id": "cd8bbb29-eea6-4b41-9dbb-5ebca4c2821c",
   "metadata": {
    "tags": []
   },
   "outputs": [],
   "source": [
    "previsao_full = df_test.merge(preds, how='right', on=['unique_id', 'ds'])"
   ]
  },
  {
   "cell_type": "code",
   "execution_count": 38,
   "id": "e009c473-e1bf-4b5b-a745-8488105b7b34",
   "metadata": {
    "tags": []
   },
   "outputs": [
    {
     "data": {
      "text/html": [
       "<div>\n",
       "<style scoped>\n",
       "    .dataframe tbody tr th:only-of-type {\n",
       "        vertical-align: middle;\n",
       "    }\n",
       "\n",
       "    .dataframe tbody tr th {\n",
       "        vertical-align: top;\n",
       "    }\n",
       "\n",
       "    .dataframe thead th {\n",
       "        text-align: right;\n",
       "    }\n",
       "</style>\n",
       "<table border=\"1\" class=\"dataframe\">\n",
       "  <thead>\n",
       "    <tr style=\"text-align: right;\">\n",
       "      <th></th>\n",
       "      <th>ds</th>\n",
       "      <th>y</th>\n",
       "      <th>unique_id</th>\n",
       "      <th>lgb</th>\n",
       "      <th>ridge</th>\n",
       "      <th>xgb</th>\n",
       "      <th>linear_regression</th>\n",
       "      <th>lasso</th>\n",
       "      <th>elastic_net</th>\n",
       "      <th>rf</th>\n",
       "    </tr>\n",
       "  </thead>\n",
       "  <tbody>\n",
       "    <tr>\n",
       "      <th>0</th>\n",
       "      <td>2015-11-01</td>\n",
       "      <td>1113976</td>\n",
       "      <td>0</td>\n",
       "      <td>1222146</td>\n",
       "      <td>1135755</td>\n",
       "      <td>1151715</td>\n",
       "      <td>1224979</td>\n",
       "      <td>1258774</td>\n",
       "      <td>1257759</td>\n",
       "      <td>1255023</td>\n",
       "    </tr>\n",
       "    <tr>\n",
       "      <th>1</th>\n",
       "      <td>2015-12-01</td>\n",
       "      <td>1126236</td>\n",
       "      <td>0</td>\n",
       "      <td>1272436</td>\n",
       "      <td>1109182</td>\n",
       "      <td>1125110</td>\n",
       "      <td>1211164</td>\n",
       "      <td>1269197</td>\n",
       "      <td>1267082</td>\n",
       "      <td>1261610</td>\n",
       "    </tr>\n",
       "    <tr>\n",
       "      <th>2</th>\n",
       "      <td>2016-01-01</td>\n",
       "      <td>1215286</td>\n",
       "      <td>0</td>\n",
       "      <td>1245640</td>\n",
       "      <td>1095946</td>\n",
       "      <td>1094248</td>\n",
       "      <td>1199876</td>\n",
       "      <td>1279707</td>\n",
       "      <td>1276404</td>\n",
       "      <td>1268197</td>\n",
       "    </tr>\n",
       "    <tr>\n",
       "      <th>3</th>\n",
       "      <td>2016-02-01</td>\n",
       "      <td>1212927</td>\n",
       "      <td>0</td>\n",
       "      <td>1254370</td>\n",
       "      <td>1095308</td>\n",
       "      <td>1087981</td>\n",
       "      <td>1190253</td>\n",
       "      <td>1290303</td>\n",
       "      <td>1285727</td>\n",
       "      <td>1274784</td>\n",
       "    </tr>\n",
       "    <tr>\n",
       "      <th>4</th>\n",
       "      <td>2016-03-01</td>\n",
       "      <td>1275746</td>\n",
       "      <td>0</td>\n",
       "      <td>1305250</td>\n",
       "      <td>1101897</td>\n",
       "      <td>1073919</td>\n",
       "      <td>1181382</td>\n",
       "      <td>1300988</td>\n",
       "      <td>1295049</td>\n",
       "      <td>1281370</td>\n",
       "    </tr>\n",
       "    <tr>\n",
       "      <th>5</th>\n",
       "      <td>2016-04-01</td>\n",
       "      <td>1283470</td>\n",
       "      <td>0</td>\n",
       "      <td>1277763</td>\n",
       "      <td>1103148</td>\n",
       "      <td>1052428</td>\n",
       "      <td>1174275</td>\n",
       "      <td>1311760</td>\n",
       "      <td>1304372</td>\n",
       "      <td>1287957</td>\n",
       "    </tr>\n",
       "  </tbody>\n",
       "</table>\n",
       "</div>"
      ],
      "text/plain": [
       "          ds        y  unique_id      lgb    ridge      xgb  \\\n",
       "0 2015-11-01  1113976          0  1222146  1135755  1151715   \n",
       "1 2015-12-01  1126236          0  1272436  1109182  1125110   \n",
       "2 2016-01-01  1215286          0  1245640  1095946  1094248   \n",
       "3 2016-02-01  1212927          0  1254370  1095308  1087981   \n",
       "4 2016-03-01  1275746          0  1305250  1101897  1073919   \n",
       "5 2016-04-01  1283470          0  1277763  1103148  1052428   \n",
       "\n",
       "   linear_regression    lasso  elastic_net       rf  \n",
       "0            1224979  1258774      1257759  1255023  \n",
       "1            1211164  1269197      1267082  1261610  \n",
       "2            1199876  1279707      1276404  1268197  \n",
       "3            1190253  1290303      1285727  1274784  \n",
       "4            1181382  1300988      1295049  1281370  \n",
       "5            1174275  1311760      1304372  1287957  "
      ]
     },
     "execution_count": 38,
     "metadata": {},
     "output_type": "execute_result"
    }
   ],
   "source": [
    "previsao_full"
   ]
  },
  {
   "cell_type": "code",
   "execution_count": 39,
   "id": "d7a72c48-5238-408b-9765-f974c6a565bc",
   "metadata": {
    "tags": []
   },
   "outputs": [
    {
     "name": "stdout",
     "output_type": "stream",
     "text": [
      "----------------lgb-------------------\n",
      "Mean Absolute Error: 60229.666666666664\n",
      "Mean absolute percentage error: 5.227226049652311\n",
      "Root mean squared error: 78120.77437105532\n",
      "R2: -0.4182031004214366\n",
      "\n",
      "\n",
      "----------------ridge-------------------\n",
      "Mean Absolute Error: 104993.83333333333\n",
      "Mean absolute percentage error: 8.4438599115031\n",
      "Root mean squared error: 123545.4889254696\n",
      "R2: -2.54698323846388\n",
      "\n",
      "\n",
      "----------------xgb-------------------\n",
      "Mean Absolute Error: 119619.66666666667\n",
      "Mean absolute percentage error: 9.595041637220213\n",
      "Root mean squared error: 144799.71457729698\n",
      "R2: -3.8723756366896795\n",
      "\n",
      "\n",
      "----------------linear_regression-------------------\n",
      "Mean Absolute Error: 72929.0\n",
      "Mean absolute percentage error: 6.091231672693164\n",
      "Root mean squared error: 82778.94467596617\n",
      "R2: -0.5923741622817429\n",
      "\n",
      "\n",
      "----------------lasso-------------------\n",
      "Mean Absolute Error: 80514.66666666667\n",
      "Mean absolute percentage error: 6.925827116965087\n",
      "Root mean squared error: 93967.10559729577\n",
      "R2: -1.0519040605753363\n",
      "\n",
      "\n",
      "----------------elastic_net-------------------\n",
      "Mean Absolute Error: 76458.66666666667\n",
      "Mean absolute percentage error: 6.597639721349542\n",
      "Root mean squared error: 91611.40407722174\n",
      "R2: -0.9503135141627366\n",
      "\n",
      "\n",
      "----------------rf-------------------\n",
      "Mean Absolute Error: 66883.33333333333\n",
      "Mean absolute percentage error: 5.820943880803883\n",
      "Root mean squared error: 86504.33611482529\n",
      "R2: -0.7389260209423056\n",
      "\n",
      "\n"
     ]
    }
   ],
   "source": [
    "for i in list(models.keys()):\n",
    "  print(f'----------------{i}-------------------')\n",
    "  MAE = mean_absolute_error(previsao_full['y'], previsao_full[i])\n",
    "  print(f'Mean Absolute Error: {MAE}')\n",
    "\n",
    "  MAPE = mean_absolute_percentage_error(previsao_full['y'], previsao_full[i])\n",
    "  print(f'Mean absolute percentage error: {MAPE}')\n",
    "\n",
    "  RMSE = sqrt(mean_squared_error(previsao_full[i], previsao_full['y']))\n",
    "  print(f'Root mean squared error: {RMSE}')\n",
    "\n",
    "  R2 = r2_score(previsao_full['y'], previsao_full[i])\n",
    "  print(f'R2: {R2}')\n",
    "  print('\\n')"
   ]
  },
  {
   "cell_type": "code",
   "execution_count": 53,
   "id": "90267d48-487b-4c53-bcca-7b1b8c69ca7a",
   "metadata": {
    "tags": []
   },
   "outputs": [
    {
     "data": {
      "image/png": "[encoded data removed]",
      "text/plain": [
       "<Figure size 2400x350 with 1 Axes>"
      ]
     },
     "execution_count": 53,
     "metadata": {},
     "output_type": "execute_result"
    }
   ],
   "source": [
    "plot_series(df_test, preds[['unique_id', 'ds', 'lgb']], plot_random=False)"
   ]
  },
  {
   "cell_type": "code",
   "execution_count": 41,
   "id": "7cd35d17-84d7-4518-8c58-ccd630316674",
   "metadata": {},
   "outputs": [],
   "source": [
    "tabela_validacao = previsao_full[['unique_id', 'ds', 'y', 'lgb']]"
   ]
  },
  {
   "cell_type": "markdown",
   "id": "7cac9a8c-0124-40ac-bc7c-f0858462ced9",
   "metadata": {},
   "source": [
    "## Fazendo a previsão para os próximos 6 meses"
   ]
  },
  {
   "cell_type": "code",
   "execution_count": 42,
   "id": "30af6d52-c479-48be-b585-856387fe05d3",
   "metadata": {
    "tags": []
   },
   "outputs": [],
   "source": [
    "dados_full = pd.concat([df_train, df_test])"
   ]
  },
  {
   "cell_type": "code",
   "execution_count": 43,
   "id": "0423922c-8e0b-44c4-b68f-a392e2407977",
   "metadata": {},
   "outputs": [],
   "source": [
    "models_full ={\n",
    "    'xgb': AutoXGBoost()\n",
    "        }"
   ]
  },
  {
   "cell_type": "code",
   "execution_count": 44,
   "id": "c15f2e45-4e7f-4f1c-8770-a95261d7036c",
   "metadata": {},
   "outputs": [],
   "source": [
    "auto_mlf_full = AutoMLForecast(\n",
    "    models=models_full,\n",
    "    freq=\"MS\",\n",
    "    season_length=6,\n",
    ")"
   ]
  },
  {
   "cell_type": "code",
   "execution_count": 45,
   "id": "4b934f1f-ba22-4cc9-a8fb-27e72a48226a",
   "metadata": {},
   "outputs": [
    {
     "name": "stderr",
     "output_type": "stream",
     "text": [
      "[I 2024-07-05 16:20:26,330] A new study created in memory with name: no-name-d0c15a2b-ad2d-4648-8806-fc9daa15e0e6\n",
      "[I 2024-07-05 16:20:26,632] Trial 0 finished with value: 0.030347017211230936 and parameters: {'n_estimators': 558, 'max_depth': 8, 'learning_rate': 0.024376795198947098, 'subsample': 0.5903948646972071, 'bagging_freq': 0.4812893194050143, 'colsample_bytree': 0.6813047017599905, 'min_data_in_leaf': 44.321133915006556, 'reg_lambda': 0.13620216352659412, 'reg_alpha': 0.5120378720005675, 'min_child_weight': 5, 'target_transforms_idx': 3, 'lags_idx': 0, 'lag_transforms_idx': 1}. Best is trial 0 with value: 0.030347017211230936.\n",
      "[I 2024-07-05 16:20:26,922] Trial 1 finished with value: 0.05287502006479299 and parameters: {'n_estimators': 472, 'max_depth': 8, 'learning_rate': 0.0018713412964879435, 'subsample': 0.6759289191947714, 'bagging_freq': 0.22901795866814179, 'colsample_bytree': 0.9502020253446255, 'min_data_in_leaf': 52.662983853257096, 'reg_lambda': 2.0763258931120774e-05, 'reg_alpha': 1.3075096319371512e-06, 'min_child_weight': 8, 'target_transforms_idx': 6, 'lags_idx': 0, 'lag_transforms_idx': 1}. Best is trial 0 with value: 0.030347017211230936.\n",
      "[I 2024-07-05 16:20:27,243] Trial 2 finished with value: 0.02666352545671006 and parameters: {'n_estimators': 674, 'max_depth': 7, 'learning_rate': 0.003048572892307046, 'subsample': 0.21603366788936798, 'bagging_freq': 0.38388551583176544, 'colsample_bytree': 0.42733969384836035, 'min_data_in_leaf': 57.449480271370085, 'reg_lambda': 3.227097654537013e-05, 'reg_alpha': 0.8072177525850062, 'min_child_weight': 2, 'target_transforms_idx': 2, 'lags_idx': 1, 'lag_transforms_idx': 2}. Best is trial 2 with value: 0.02666352545671006.\n",
      "[I 2024-07-05 16:20:27,545] Trial 3 finished with value: 0.066960645364043 and parameters: {'n_estimators': 825, 'max_depth': 1, 'learning_rate': 0.08474934821999011, 'subsample': 0.18648856710456677, 'bagging_freq': 0.9788135185120562, 'colsample_bytree': 0.5217860814829315, 'min_data_in_leaf': 97.69934773084337, 'reg_lambda': 0.0006898650733811707, 'reg_alpha': 0.008205567741768078, 'min_child_weight': 2, 'target_transforms_idx': 5, 'lags_idx': 0, 'lag_transforms_idx': 1}. Best is trial 2 with value: 0.02666352545671006.\n",
      "[I 2024-07-05 16:20:27,924] Trial 4 finished with value: 0.018850506443821902 and parameters: {'n_estimators': 585, 'max_depth': 10, 'learning_rate': 0.0054080004027619024, 'subsample': 0.7006693419673136, 'bagging_freq': 0.21861807616395296, 'colsample_bytree': 0.744694483706709, 'min_data_in_leaf': 29.65120320177291, 'reg_lambda': 2.9209955547766623e-07, 'reg_alpha': 0.0004921567869290511, 'min_child_weight': 2, 'target_transforms_idx': 5, 'lags_idx': 1, 'lag_transforms_idx': 2}. Best is trial 4 with value: 0.018850506443821902.\n",
      "[I 2024-07-05 16:20:28,178] Trial 5 finished with value: 0.026618349887973815 and parameters: {'n_estimators': 458, 'max_depth': 9, 'learning_rate': 0.040693289103249694, 'subsample': 0.3676932557696203, 'bagging_freq': 0.8324180377322294, 'colsample_bytree': 0.4568551667622862, 'min_data_in_leaf': 88.229216514005, 'reg_lambda': 0.0004468718327886271, 'reg_alpha': 0.1132095058758038, 'min_child_weight': 8, 'target_transforms_idx': 2, 'lags_idx': 1, 'lag_transforms_idx': 1}. Best is trial 4 with value: 0.018850506443821902.\n"
     ]
    },
    {
     "data": {
      "text/plain": [
       "AutoMLForecast(models={'xgb': AutoModel(model=XGBRegressor)})"
      ]
     },
     "execution_count": 45,
     "metadata": {},
     "output_type": "execute_result"
    }
   ],
   "source": [
    "auto_mlf_full.fit(\n",
    "    dados_full,\n",
    "    n_windows=4,\n",
    "    h=6,\n",
    "    num_samples=6,\n",
    ")"
   ]
  },
  {
   "cell_type": "code",
   "execution_count": 46,
   "id": "40583cea-c782-4849-a140-7e7d3e6ff55e",
   "metadata": {},
   "outputs": [],
   "source": [
    "preds_full = auto_mlf_full.predict(6)"
   ]
  },
  {
   "cell_type": "code",
   "execution_count": 47,
   "id": "f20f3a82-0264-4f12-b987-3f719e92ed0d",
   "metadata": {
    "tags": []
   },
   "outputs": [],
   "source": [
    "for i in list(models_full.keys()):\n",
    "  preds_full[i] = preds_full[i].astype(int)"
   ]
  },
  {
   "cell_type": "code",
   "execution_count": 48,
   "id": "e4818144-b270-407e-96e7-619f421c03a4",
   "metadata": {},
   "outputs": [
    {
     "data": {
      "text/html": [
       "<div>\n",
       "<style scoped>\n",
       "    .dataframe tbody tr th:only-of-type {\n",
       "        vertical-align: middle;\n",
       "    }\n",
       "\n",
       "    .dataframe tbody tr th {\n",
       "        vertical-align: top;\n",
       "    }\n",
       "\n",
       "    .dataframe thead th {\n",
       "        text-align: right;\n",
       "    }\n",
       "</style>\n",
       "<table border=\"1\" class=\"dataframe\">\n",
       "  <thead>\n",
       "    <tr style=\"text-align: right;\">\n",
       "      <th></th>\n",
       "      <th>unique_id</th>\n",
       "      <th>ds</th>\n",
       "      <th>xgb</th>\n",
       "    </tr>\n",
       "  </thead>\n",
       "  <tbody>\n",
       "    <tr>\n",
       "      <th>0</th>\n",
       "      <td>0</td>\n",
       "      <td>2016-05-01</td>\n",
       "      <td>1207375</td>\n",
       "    </tr>\n",
       "    <tr>\n",
       "      <th>1</th>\n",
       "      <td>0</td>\n",
       "      <td>2016-06-01</td>\n",
       "      <td>1223718</td>\n",
       "    </tr>\n",
       "    <tr>\n",
       "      <th>2</th>\n",
       "      <td>0</td>\n",
       "      <td>2016-07-01</td>\n",
       "      <td>1344376</td>\n",
       "    </tr>\n",
       "    <tr>\n",
       "      <th>3</th>\n",
       "      <td>0</td>\n",
       "      <td>2016-08-01</td>\n",
       "      <td>1379809</td>\n",
       "    </tr>\n",
       "    <tr>\n",
       "      <th>4</th>\n",
       "      <td>0</td>\n",
       "      <td>2016-09-01</td>\n",
       "      <td>1354268</td>\n",
       "    </tr>\n",
       "    <tr>\n",
       "      <th>5</th>\n",
       "      <td>0</td>\n",
       "      <td>2016-10-01</td>\n",
       "      <td>1449658</td>\n",
       "    </tr>\n",
       "  </tbody>\n",
       "</table>\n",
       "</div>"
      ],
      "text/plain": [
       "   unique_id         ds      xgb\n",
       "0          0 2016-05-01  1207375\n",
       "1          0 2016-06-01  1223718\n",
       "2          0 2016-07-01  1344376\n",
       "3          0 2016-08-01  1379809\n",
       "4          0 2016-09-01  1354268\n",
       "5          0 2016-10-01  1449658"
      ]
     },
     "execution_count": 48,
     "metadata": {},
     "output_type": "execute_result"
    }
   ],
   "source": [
    "preds_full.head(10)"
   ]
  },
  {
   "cell_type": "markdown",
   "id": "70064ab9-0d84-48d3-a5f5-b209b4e36737",
   "metadata": {},
   "source": [
    "# Exportando os arquivos"
   ]
  },
  {
   "cell_type": "markdown",
   "id": "0004d990-7242-4f2b-986f-d80c92f779e2",
   "metadata": {},
   "source": [
    "# Exportando o pickle"
   ]
  },
  {
   "cell_type": "code",
   "execution_count": 49,
   "id": "3a09972d-a5da-4fbe-8672-49c033749ac0",
   "metadata": {
    "tags": []
   },
   "outputs": [],
   "source": [
    "with open('ModelosPKL/valores.pkl', 'wb') as f:\n",
    "    pickle.dump(auto_mlf_full, f)"
   ]
  },
  {
   "cell_type": "markdown",
   "id": "0eb79ee3-7fc8-48b9-bab0-8629fa1e6a42",
   "metadata": {},
   "source": [
    "# Previsão futuro"
   ]
  },
  {
   "cell_type": "code",
   "execution_count": 50,
   "id": "a77d8cb5-0da1-4056-bfec-1f497da52794",
   "metadata": {
    "tags": []
   },
   "outputs": [],
   "source": [
    "preds_full.to_csv('previsao_valor.csv', index=False)"
   ]
  },
  {
   "cell_type": "markdown",
   "id": "ff57d5db-8ab5-4b2d-b1e5-493981b61066",
   "metadata": {},
   "source": [
    "# Validação"
   ]
  },
  {
   "cell_type": "code",
   "execution_count": 51,
   "id": "8618943c-49a6-49a2-8feb-8bc526116479",
   "metadata": {},
   "outputs": [],
   "source": [
    "tabela_validacao.to_csv('validacao_valor.csv', index=False)"
   ]
  }
 ],
 "metadata": {
  "environment": {
   "kernel": "conda-base-py",
   "name": "workbench-notebooks.m122",
   "type": "gcloud",
   "uri": "us-docker.pkg.dev/deeplearning-platform-release/gcr.io/workbench-notebooks:m122"
  },
  "kernelspec": {
   "display_name": "Python 3 (ipykernel) (Local)",
   "language": "python",
   "name": "conda-base-py"
  },
  "language_info": {
   "codemirror_mode": {
    "name": "ipython",
    "version": 3
   },
   "file_extension": ".py",
   "mimetype": "text/x-python",
   "name": "python",
   "nbconvert_exporter": "python",
   "pygments_lexer": "ipython3",
   "version": "3.10.14"
  }
 },
 "nbformat": 4,
 "nbformat_minor": 5
}
